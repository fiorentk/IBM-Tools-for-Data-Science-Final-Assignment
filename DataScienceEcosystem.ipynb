{
 "cells": [
  {
   "cell_type": "markdown",
   "id": "07ac35e2",
   "metadata": {},
   "source": [
    "# Data Science Tools and Ecosystem"
   ]
  },
  {
   "cell_type": "markdown",
   "id": "1e1f6a76",
   "metadata": {},
   "source": [
    "In this notebook, Data Science Tools and Ecosystem are summarized."
   ]
  },
  {
   "cell_type": "markdown",
   "id": "1e3b5896",
   "metadata": {},
   "source": [
    "Some of the popular languages that Data Scientists use are:\n",
    "1. Python\n",
    "2. R\n",
    "3. SQL\n",
    "4. Scala\n",
    "5. Java\n",
    "6. Julia\n",
    "7. C++"
   ]
  },
  {
   "cell_type": "markdown",
   "id": "d35e847e",
   "metadata": {},
   "source": [
    "Some of the commonly used libraries used by Data Scientists include:\n",
    "1. Python:\n",
    "   - Pandas\n",
    "   - NumPy\n",
    "   - Matplotlib\n",
    "   - SciPy\n",
    "   - Scikit-learn\n",
    "   - Keras\n",
    "   - Tensorflow\n",
    "2. R:\n",
    "   - ggplot2\n",
    "   - GGally\n",
    "3. Scala (Apache Spark):\n",
    "   - Vegas\n",
    "   - Big DL"
   ]
  },
  {
   "cell_type": "markdown",
   "id": "76104f26",
   "metadata": {},
   "source": [
    "|Data Science Tools|\n",
    "|------------------|\n",
    "| Jupyter Notebook |\n",
    "| RStudio          |\n",
    "| Spyder           |"
   ]
  },
  {
   "cell_type": "markdown",
   "id": "864bfe51",
   "metadata": {},
   "source": [
    "### A few examples of evaluating arithmetic expressions in Python"
   ]
  },
  {
   "cell_type": "code",
   "execution_count": 1,
   "id": "ea15bd74",
   "metadata": {},
   "outputs": [
    {
     "data": {
      "text/plain": [
       "17"
      ]
     },
     "execution_count": 1,
     "metadata": {},
     "output_type": "execute_result"
    }
   ],
   "source": [
    "# This a simple arithmetic expression to mutiply then add integers\n",
    "(3*4)+5"
   ]
  },
  {
   "cell_type": "code",
   "execution_count": 3,
   "id": "852e91aa",
   "metadata": {},
   "outputs": [
    {
     "name": "stdout",
     "output_type": "stream",
     "text": [
      "200 minutes is equal to 3.3333333333333335 hours\n"
     ]
    }
   ],
   "source": [
    "# This will convert 200 minutes to hours by diving by 60\n",
    "minutes = 200\n",
    "hours = minutes / 60\n",
    "print (minutes,'minutes is equal to',hours,'hours')"
   ]
  },
  {
   "cell_type": "markdown",
   "id": "8c4eeae7",
   "metadata": {},
   "source": [
    "**Objectives:**\n",
    "- List the popular language in data science\n",
    "- List the commonly used libraries in data science\n",
    "- List the open source tools used in data science\n",
    "- Write arithmetic expression in Python"
   ]
  },
  {
   "cell_type": "markdown",
   "id": "6cff8725",
   "metadata": {},
   "source": [
    "## Author\n",
    "Fiorentika Devasha Ramadhina"
   ]
  },
  {
   "cell_type": "code",
   "execution_count": null,
   "id": "33c12af0",
   "metadata": {},
   "outputs": [],
   "source": []
  }
 ],
 "metadata": {
  "kernelspec": {
   "display_name": "Python 3 (ipykernel)",
   "language": "python",
   "name": "python3"
  },
  "language_info": {
   "codemirror_mode": {
    "name": "ipython",
    "version": 3
   },
   "file_extension": ".py",
   "mimetype": "text/x-python",
   "name": "python",
   "nbconvert_exporter": "python",
   "pygments_lexer": "ipython3",
   "version": "3.10.9"
  }
 },
 "nbformat": 4,
 "nbformat_minor": 5
}
